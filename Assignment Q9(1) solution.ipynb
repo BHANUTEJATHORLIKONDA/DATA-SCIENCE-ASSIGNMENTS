# -*- coding: utf-8 -*-
"""
Created on Sun Aug 20 11:24:27 2023

@author: sksha
"""

import  pandas as pd
df = pd.read_csv("Q9_a.csv")
df

#speed and distance are continuos variables here as they have measures#
#so we can draw inferences by constructing histograms
df.shape
df.info()
df.dtypes
df.describe()
df.isnull().sum()

df["speed"].describe()
df["speed"].hist()               #negatively skewed (Mean<Median<Mode)
df["speed"].skew().round(2)      #-0.12
#there the skewness value is showing as -0.12 so it is considered as negitively skewed
df["speed"].kurt().round(2)      #-0.51
#as the value is (< 0) this is considered as plato kurtosis#


df["dist"].describe()
df["dist"].hist()               #positively skewed (Mode<Median<Mean)
df["dist"].skew().round(2)      #0.81
df["dist"].kurt().round(2)      #0.41
