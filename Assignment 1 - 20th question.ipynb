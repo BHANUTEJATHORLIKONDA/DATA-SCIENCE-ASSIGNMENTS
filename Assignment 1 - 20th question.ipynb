# -*- coding: utf-8 -*-
"""
Created on Wed Sep 27 12:03:56 2023

@author: sksha
"""

import pandas as pd
df = pd.read_csv("Cars.csv")
df
df["MPG"].mean()  #34.4220

from scipy.stats import norm
nd = norm(34,10)
# Calculate P(MPG > 38)
probability_a = len(df["MPG"][df["MPG"] > 38]) / len(df["MPG"])
print("P(MPG > 38):", probability_a)

# Calculate P(MPG < 40)
probability_b = len(df["MPG"][df["MPG"] < 40]) / len(df["MPG"])
print("P(MPG < 40):", probability_b)

# Calculate P(20 < MPG < 50)
probability_c = len(df["MPG"][(df["MPG"] > 20) & (df["MPG"] < 50)]) / len(df["MPG"])
print("P(20 < MPG < 50):", probability_c)
