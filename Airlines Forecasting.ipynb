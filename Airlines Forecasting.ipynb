# -*- coding: utf-8 -*-
"""
Created on Wed Nov 29 10:26:22 2023

@author: bhanu's
"""

import numpy as np
import pandas as pd
import matplotlib.pyplot as plt
import statsmodels.api as sms
import statsmodels.api as sm
%matplotlib inline
import seaborn as sns
from pandas.plotting import lag_plot
from statsmodels.tsa.arima.model import ARIMA
from statsmodels.tsa.statespace.sarimax import SARIMAX
from statsmodels.tsa.stattools import adfuller
from sklearn.metrics import mean_squared_error
from statsmodels.graphics.tsaplots import plot_acf, plot_pacf

"""  importing the data  """
df = pd.read_excel("C:\\Users\\bhanu\\OneDrive\\Desktop\\data science assesments\\Airlines+Data.xlsx")
df
df.info()
df.shape
df.head()
df.tail()

""" checking the null values """
df.isnull().sum()

df.rename({'Month':'Date'}, axis=1, inplace=True)
df

"""Separating Month and Year into Separate Column for Visualization and removing meaningful insight of the data"""
""" Creating the Dummy Variables """

df["Date"]  = pd.to_datetime(df.Date, format="%b-%y")
df["month"] = df.Date.dt.strftime("%b") # month extraction
df["year"]  = df.Date.dt.strftime("%Y") # year extraction
df.head(10)

df.set_index('Date', inplace=True)
df.index.year

df.head()


df.plot()

### EDA
### Exploratry Data Analysis
### Histogram

df.Passengers.hist()

#Heat Map

plt.figure(figsize=(14,8))
Y_Month=pd.pivot_table(data=df,values="Passengers",index="year",columns="month",aggfunc="mean",fill_value=0)
sns.heatmap(Y_Month,annot=True,fmt="2g")

#Line Plot

df['Passengers'].plot(figsize=(14,6),color='red',marker='o')
plt.show()

#Density plot and Lag plot

df.Passengers.plot(kind='kde')
     
lag_plot(df.Passengers)


# create an autocorrelation plot

from statsmodels.graphics.tsaplots import plot_acf
plot_acf(df.Passengers,lags=40)


# Boxplot 

plt.figure(figsize=(8,6))
plt.subplot(211)
sns.boxplot(x="month",y="Passengers",data=df)

plt.subplot(212)
sns.boxplot(x="year",y="Passengers",data=df)

# Adding 't', 't_square', and 't_log' columns
df['t'] = np.arange(1, len(df) + 1)
df['t_square'] = df['t'] ** 2
df['t_log'] = np.log(df['t'])


df.head()

# Splitting the data into train and test sets
size = 72
train_data = df[:size]
test_data = df[size:]
train_data
test_data

# Linear Model
X_train_linear = sm.add_constant(train_data[['t']])
y_train_linear = train_data['Passengers']
linear_model = sm.OLS(y_train_linear, X_train_linear).fit()

# Quadratic Model
X_train_quad = sm.add_constant(train_data[['t', 't_square']])
y_train_quad = train_data['Passengers']
quadratic_model = sm.OLS(y_train_quad, X_train_quad).fit()

# Exponential Model
X_train_exp = sm.add_constant(train_data[['t_log']])
y_train_exp = train_data['Passengers']
exponential_model = sm.OLS(y_train_exp, X_train_exp).fit()


# Predictions on the test set for the Linear Model
X_test_linear = sm.add_constant(test_data[['t']])
pred_linear = linear_model.predict(X_test_linear)

# Predictions on the test set for the Quadratic Model
X_test_quad = sm.add_constant(test_data[['t', 't_square']])
pred_quad = quadratic_model.predict(X_test_quad)

# Predictions on the test set for the Exponential Model
X_test_exp = sm.add_constant(test_data[['t_log']])
pred_exp = exponential_model.predict(X_test_exp)

from sklearn.metrics import mean_squared_error


mse_linear = mean_squared_error(test_data['Passengers'], pred_linear)
mse_quad = mean_squared_error(test_data['Passengers'], pred_quad)
mse_exp = mean_squared_error(test_data['Passengers'], pred_exp)


rmse_linear = np.sqrt(mse_linear)
rmse_quad = np.sqrt(mse_quad)
rmse_exp = np.sqrt(mse_exp)

# Display MSE and RMSE for each model
print("MSE for Linear Model:", mse_linear)
print("RMSE for Linear Model:", rmse_linear)

print("MSE for Quadratic Model:", mse_quad)
print("RMSE for Quadratic Model:", rmse_quad)

print("MSE for Exponential Model:", mse_exp)
print("RMSE for Exponential Model:", rmse_exp)

import statsmodels.api as sm

# Additional Seasonality
X_train_add_seasonal = sm.add_constant(train_data[['t']])
X_train_add_seasonal['seasonal'] = np.sin(2 * np.pi * X_train_add_seasonal['t'] / 12)
y_train_add_seasonal = train_data['Passengers']
add_seasonal_model = sm.OLS(y_train_add_seasonal, X_train_add_seasonal).fit()

# Multiplicative Seasonality
X_train_mult_seasonal = sm.add_constant(train_data[['t']])
X_train_mult_seasonal['seasonal'] = np.sin(2 * np.pi * X_train_mult_seasonal['t'] / 12)
y_train_mult_seasonal = train_data['Passengers']
mult_seasonal_model = sm.OLS(np.log(y_train_mult_seasonal), X_train_mult_seasonal).fit()

# Additive Seasonality with Quadratic Terms
X_train_add_quad_seasonal = sm.add_constant(train_data[['t', 't_square']])
X_train_add_quad_seasonal['seasonal'] = np.sin(2 * np.pi * X_train_add_quad_seasonal['t'] / 12)
y_train_add_quad_seasonal = train_data['Passengers']
add_quad_seasonal_model = sm.OLS(y_train_add_quad_seasonal, X_train_add_quad_seasonal).fit()

# Multiplicative Additive Seasonality
X_train_mult_add_seasonal = sm.add_constant(train_data[['t']])
X_train_mult_add_seasonal['seasonal'] = np.sin(2 * np.pi * X_train_mult_add_seasonal['t'] / 12)
y_train_mult_add_seasonal = train_data['Passengers']
mult_add_seasonal_model = sm.OLS(np.log(y_train_mult_add_seasonal), X_train_mult_add_seasonal).fit()

# Predictions on the test set for each model
X_test_add_seasonal = sm.add_constant(test_data[['t']])
X_test_add_seasonal['seasonal'] = np.sin(2 * np.pi * X_test_add_seasonal['t'] / 12)
pred_add_seasonal = add_seasonal_model.predict(X_test_add_seasonal)

X_test_mult_seasonal = sm.add_constant(test_data[['t']])
X_test_mult_seasonal['seasonal'] = np.sin(2 * np.pi * X_test_mult_seasonal['t'] / 12)
pred_mult_seasonal = np.exp(mult_seasonal_model.predict(X_test_mult_seasonal))

X_test_add_quad_seasonal = sm.add_constant(test_data[['t', 't_square']])
X_test_add_quad_seasonal['seasonal'] = np.sin(2 * np.pi * X_test_add_quad_seasonal['t'] / 12)
pred_add_quad_seasonal = add_quad_seasonal_model.predict(X_test_add_quad_seasonal)

X_test_mult_add_seasonal = sm.add_constant(test_data[['t']])
X_test_mult_add_seasonal['seasonal'] = np.sin(2 * np.pi * X_test_mult_add_seasonal['t'] / 12)
pred_mult_add_seasonal = np.exp(mult_add_seasonal_model.predict(X_test_mult_add_seasonal))

# Calculate RMSE for each model
rmse_add_seasonal = np.sqrt(mean_squared_error(test_data['Passengers'], pred_add_seasonal))
rmse_mult_seasonal = np.sqrt(mean_squared_error(test_data['Passengers'], pred_mult_seasonal))
rmse_add_quad_seasonal = np.sqrt(mean_squared_error(test_data['Passengers'], pred_add_quad_seasonal))
rmse_mult_add_seasonal = np.sqrt(mean_squared_error(test_data['Passengers'], pred_mult_add_seasonal))

# Display RMSE for each model
print("RMSE for Additional Seasonality Model:", rmse_add_seasonal)
print("RMSE for Multiplicative Seasonality Model:", rmse_mult_seasonal)
print("RMSE for Additive Seasonality with Quadratic Model:", rmse_add_quad_seasonal)
print("RMSE for Multiplicative Additive Seasonality Model:", rmse_mult_add_seasonal)

"""The seasonal column is created based on the sine function with a periodicity of 12, representing monthly seasonality. """

""" Dickey Fuller Test for testing the data is stationary or not """

def adf_test(series):
    result = adfuller(series)
    print('ADF Statistics: {}'.format(result[0]))
    print('p-value: {}'.format(result[1]))
    if result[1] <= 0.05:
       print("Strong evidence against the null hypothesis,reject the null hypothesis.Data has no unit root and is stationary")
    else:
       print("Weak evidence against null hypothesis,time series has unit root , indicating it is non -statinary")


adf_test(df['Passengers'])

#p-value: 0.9968250481137263 indicating data is not stationary.

""" using techniques Differencing   """

df['Passengers First Difference']=df['Passengers']-df['Passengers'].shift(1)
df.head()

adf_test(df['Passengers First Difference'].dropna())
# data is still not stationary.

""" using second differencing technique """

df['Passengers Second Difference'] = df['Passengers First Difference']-df['Passengers First Difference'].shift(1)

adf_test(df['Passengers Second Difference'].dropna())

# data is  stationary.


""" we got our d value as 2 """

""" we are checking for over a year now  ( we are looking for seasonal differences now and sometimes ARIMA doesnot work well for seasonal data but SARIMAX Does )"""

""" Seasonality Differencing Graph """

df['Passengers 12 Difference']=df['Passengers']-df['Passengers'].shift(12)
adf_test(df['Passengers 12 Difference'].dropna())



""" ARIMA is not working well for seasonal data in this scenario"""

"""      plotting   the acf and pacf  gives the argument values for arima function   """

acf = plot_acf(df['Passengers Second Difference'].dropna())

acf12 = plot_acf(df['Passengers 12 Difference'].dropna())

""" if we want to select a q value as 4 that means we can consider 4 previous seasonal data to make predictions in Seasonality Differencing Graph"""

pacf = plot_pacf(df['Passengers Second Difference'].dropna())

pacf12 = plot_pacf(df['Passengers 12 Difference'].dropna())

df
 
"""   Fit the ARIMA model  """


model = ARIMA(train_data['Passengers'], order=(11, 2, 2))
model_fit = model.fit()

# Make predictions on the testing set
predictions = model_fit.forecast(steps=len(test_data))

predictions.plot()

predictions

# Check the shape of the input arrays
if test_data['Passengers'].shape[0] > 1 and predictions.shape[0] > 1:
    # Calculate the mean squared error
    mse = mean_squared_error(test_data['Passengers'], predictions)

    # Calculate the root mean squared error
    rmse = np.sqrt(mse)
    print('RMSE:', rmse)
else:
    print('Error: Input arrays have only one element')
    
""" RMSE: 39.44298216458226 """

model_fit.summary()
test_data['predictions'] = predictions 

test_data[['Passengers','predictions']].plot() 


"""  SARIMAX   """
# Fit SARIMA model
model_SARIMA = SARIMAX(train_data['Passengers'], order=(11, 2, 2), seasonal_order=(0, 0, 0, 12))
model_SARIMA_fit = model_SARIMA.fit()

# Make predictions on the testing set
predictions_SARIMA = model_SARIMA_fit.forecast(steps=len(test_data))

# Check the shape of the input arrays
if test_data['Passengers'].shape[0] > 1 and predictions_SARIMA.shape[0] > 1:
    # Calculate the mean squared error
    mse = mean_squared_error(test_data['Passengers'], predictions_SARIMA)

    # Calculate the root mean squared error
    rmse = np.sqrt(mse)
    print('RMSE:', rmse)
else:
    print('Error: Input arrays have only one element')

# Display model summary
model_SARIMA_fit.summary()

# Add predictions to test_data
test_data['predictions_SARIMA'] = predictions_SARIMA

# Plot actual vs predicted values
test_data[['Passengers', 'predictions_SARIMA']].plot()
plt.show()


""" considering the data to be seasonal checking with the results for arima and sarimax models """

from statsmodels.tsa.statespace.sarimax import SARIMAX
import matplotlib.pyplot as plt

# Fit ARIMA model
model_ARIMA = ARIMA(train_data['Passengers'], order=(3, 0, 5))
model_ARIMA_fit = model_ARIMA.fit()
predictions_ARIMA = model_ARIMA_fit.forecast(steps=len(test_data))

# Fit SARIMA model
model_SARIMA = SARIMAX(train_data['Passengers'], order=(3, 0, 5), seasonal_order=(0, 1, 0, 12))
model_SARIMA_fit = model_SARIMA.fit()
predictions_SARIMA = model_SARIMA_fit.forecast(steps=len(test_data))

# Calculate RMSE for ARIMA
mse_ARIMA = mean_squared_error(test_data['Passengers'], predictions_ARIMA)
rmse_ARIMA = np.sqrt(mse_ARIMA)
print('RMSE (ARIMA):', rmse_ARIMA)

# Calculate RMSE for SARIMA
mse_SARIMA = mean_squared_error(test_data['Passengers'], predictions_SARIMA)
rmse_SARIMA = np.sqrt(mse_SARIMA)
print('RMSE (SARIMA):', rmse_SARIMA)

# Plot actual vs predicted values for both models
plt.figure(figsize=(10, 6))
plt.plot(test_data['Passengers'], label='Actual')
plt.plot(predictions_ARIMA, label='ARIMA Predictions')
plt.plot(predictions_SARIMA, label='SARIMA Predictions')
plt.legend()
plt.title('Actual vs Predicted Passengers')
plt.xlabel('Month')
plt.ylabel('Passengers')
plt.show()

""" SARIMA MODEL GIVES US THE BETTER RESULTS THAN REST OF THE MODELS APPLIED FOR GIVEN DATASET"""
