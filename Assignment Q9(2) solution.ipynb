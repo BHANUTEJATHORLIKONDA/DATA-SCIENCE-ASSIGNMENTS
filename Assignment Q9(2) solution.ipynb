# -*- coding: utf-8 -*-
"""
Created on Sun Aug 20 11:58:34 2023

@author: sksha
"""

import pandas as pd
df = pd.read_csv("Q9_b (1).csv")
df
df.shape
df.dtypes

df["SP"].describe()
df["SP"].hist()               #positively skewed (Mode<Median<Mean)
df["SP"].skew().round(2)      #1.61
df["SP"].kurt().round(2)      #2.98    lepto shaped

df["WT"].describe()
df["WT"].hist()               #negatively skewed (Mean<Median<Mode)
df["WT"].skew().round(2)      #-0.61
df["WT"].kurt().round(2)      #0.95    lepto shaped
