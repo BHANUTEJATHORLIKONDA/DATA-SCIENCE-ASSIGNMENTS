# -*- coding: utf-8 -*-
"""
Created on Wed Nov 29 10:35:17 2023

@author: bhanu's
"""

""" importing the packages """

import numpy as np
import pandas as pd
import matplotlib.pyplot as plt
import statsmodels.api as sms
%matplotlib inline
import seaborn as sns
from pandas.plotting import lag_plot
from statsmodels.tsa.arima.model import ARIMA
from statsmodels.tsa.statespace.sarimax import SARIMAX
from statsmodels.tsa.stattools import adfuller
from sklearn.metrics import mean_squared_error
from statsmodels.graphics.tsaplots import plot_acf, plot_pacf

""" importing the data """
df = pd.read_excel("C:\\Users\\bhanu\\OneDrive\\Desktop\\data science assesments\\CocaCola_Sales_Rawdata.xlsx")
df
df.shape
df.head()
df.tail()
df.info()

""" checking the null values """

df.isnull().sum()

""" we are converting the quarter column (object datatype - datetime datatype)   """

# Split the 'Quarter' column into two columns

df[['Quarter', 'Year']] = df['Quarter'].str.split('_', expand=True)

# Prepend 's' to the 'Year' column

df['Year'] = 's' + df['Year']

print(df)

# Mapping of quarters to months

quarter_to_month = {'Q1': 1, 'Q2': 4, 'Q3': 7, 'Q4': 10}

# Creating a new 'Month' column by mapping the 'Quarter' column

df['Month'] = df['Quarter'].map(quarter_to_month)

print(df)


df['Year'] = '19' + df['Year'].astype(str)


df['Month_Year'] = df['Month'].astype(str) + '/' + df['Year'].astype(str)

print(df)

""" Extract month, year, and add '19' to the year  """

df['Month'] = df['Month_Year'].str.extract(r'(\d+)/')
df['Year'] = '19' + df['Month_Year'].str.extract(r's(\d+)$')

# Create a new 'Date' column by combining 'Month' and 'Year'
df['Date'] = pd.to_datetime(df['Month'] + df['Year'], format='%m%Y')

print(df)


""" Creating the Dummy Variables """

Quarters=["Q1","Q2","Q3","Q4"]

p = df["Quarter"][0]
p[0:2]

df["quarter"]=0
df["Year"]=0

for i in range(42):
    p = df.loc[i, 'Quarter']
    df.loc[i,'quarter']= p[0:2]

for i in range(42):
    p = df.loc[i, 'Quarter']
    df.loc[i,'Year']= p[3:]

month_dummies =pd.get_dummies(df['quarter'])
month_dummies

df_Dummy=pd.concat([df,month_dummies],axis=1)
df_Dummy

df_Dummy.info()


""" we are creating the additional columns for time series forecasting.
By creating these additional columns, you may be preparing the data for a time series forecasting model. The 't' column represents the time index, 't_square' captures quadratic trends, and 'Log_Sales' is a transformed version of the original sales data that may be more suitable for certain types of models, especially if the original sales data exhibits multiplicative or exponential patterns."""
df_Dummy["t"]=np.arange(1,43)

df_Dummy["t_square"]=np.square(df_Dummy["t"])

df_Dummy["Log_Sales"]=np.log(df_Dummy["Sales"])

df_Dummy



df_Dummy.Sales.plot()

### EDA
### Exploratry Data Analysis
### Histogram

df.Sales.hist()

#Heat Map

plt.figure(figsize=(10,6))
Y_Quarter=pd.pivot_table(data=df_Dummy,values="Sales",index="Date",columns="quarter",aggfunc="mean",fill_value=0)
sns.heatmap(Y_Quarter,annot=True,fmt="2g")


#Density plot and Lag plot

df_Dummy.Sales.plot(kind='kde')
     
lag_plot(df_Dummy.Sales)


# create an autocorrelation plot

from statsmodels.graphics.tsaplots import plot_acf
plot_acf(df_Dummy.Sales,lags=40)


# Boxplot 

plt.figure(figsize=(8,6))
plt.subplot(211)
sns.boxplot(x="quarter",y="Sales",data=df_Dummy)

plt.subplot(212)
sns.boxplot(x="Year",y="Sales",data=df_Dummy)


#Line Plot

plt.figure(figsize=(8,4))
sns.lineplot(x="quarter",y="Sales",data=df_Dummy)

""" Splitting the Data into train and test """

train=df_Dummy.head(int(len(df_Dummy.quarter)*0.9))
test=df_Dummy.tail(len(df_Dummy.quarter)-len(train))

train

test

#Linear Model
import statsmodels.formula.api as smf
Linear_model=smf.ols("Sales~t",data=train).fit()
pred_linear=Linear_model.predict(test["t"])
rmse_linear=np.sqrt(np.mean(test["Sales"]-np.array(pred_linear))**2)
rmse_linear


#Exponential
exp_model=smf.ols("Log_Sales~t",data=train).fit()
pred_exp_model=exp_model.predict(test["t"])
rmse_exp_model=np.sqrt(np.mean((test["Sales"])-(np.array(pred_exp_model)))**2)
rmse_exp_model

#Quadratic
Quad=smf.ols("Sales~t+t_square",data=train).fit()
pred_Quad=Quad.predict(test[["t","t_square"]])
rmse_Quad=np.sqrt(np.mean((test["Sales"])-(np.array(pred_Quad)))**2)
rmse_Quad

#Additive seasonality
Add_sea=smf.ols("Sales~Q1+Q2+Q3+Q4",data=train).fit()
pred_add_sea=Add_sea.predict(test[["Q1","Q2","Q3","Q4"]])
rmse_add_sea=np.sqrt(np.mean(test["Sales"]-(np.array(pred_add_sea)))**2)
rmse_add_sea

#Additive Seasonality Quadratic
add_sea_quad=smf.ols("Sales~t+t_square+Q1+Q2+Q3+Q4",data=train).fit()
pred_add_sea_quad=add_sea_quad.predict(test[["t","t_square","Q1","Q2","Q3","Q4"]])
rmse_add_sea_quad=np.sqrt(np.mean(test["Sales"]-np.array((pred_add_sea_quad)))**2)
rmse_add_sea_quad

# Multiplicative Seasonality
mul_sea=smf.ols("Log_Sales~Q1+Q2+Q3+Q4",data=train).fit()
pred_Mult_sea=mul_sea.predict(test[["Log_Sales","Q1","Q2","Q3","Q4"]])
rmse_Mult_sea=np.sqrt(np.mean(test["Sales"]-(np.array(np.exp(pred_Mult_sea))))**2)
rmse_Mult_sea

#Multiplicative Additive Seasonality
mul_add_sea=smf.ols("Log_Sales~t+Q1+Q2+Q3+Q4",data=train).fit()
pred_mul_add_sea=mul_add_sea.predict(test)
rmse_mul_add_sea=np.sqrt(np.mean(test["Sales"]-(np.array(pred_mul_add_sea)))**2)
rmse_mul_add_sea



# Fit ARIMA model

""" setting our Month column as index """
df.set_index('Date',inplace = True)
df.head()

""" observing how our initial data is plotted over graph to check seasonality( to be precise) """

df.plot()

""" as we can observe the graph overall the mean and standard deviation gets increasing and there is seasonality here 
in the depicted graph so there is no statinarity over here """

""" importing the necessary package for dickey fuller test  """

def adf_test(series):
    result = adfuller(series)
    print('ADF Statistics: {}'.format(result[0]))
    print('p-value: {}'.format(result[1]))
    if result[1] <= 0.05:
       print("Strong evidence against the null hypothesis,reject the null hypothesis.Data has no unit root and is stationary")
    else:
       print("Weak evidence against null hypothesis,time series has unit root , indicating it is non -statinary")


adf_test(df['Sales'])

""" using techniques Differencing   """

df['Sales First Difference']=df['Sales']-df['Sales'].shift(1)
df.head()

adf_test(df['Sales First Difference'].dropna())

# data is still not stationary.

""" using second differencing technique """

df['Sales Second Difference'] = df['Sales First Difference']-df['Sales First Difference'].shift(1)

adf_test(df['Sales Second Difference'].dropna())

# data is  stationary.

acf = plot_acf(df['Sales Second Difference'].dropna())

pacf = plot_pacf(df['Sales Second Difference'].dropna())



arima_model = ARIMA(train['Sales'], order=(3, 2, 3))
arima_fit = arima_model.fit()



# Make predictions on the test set
arima_predictions = arima_fit.forecast(steps=len(test))
arima_predictions

# Calculate RMSE
rmse_arima = np.sqrt(mean_squared_error(test['Sales'], arima_predictions))
print('RMSE (ARIMA):', rmse_arima)

arima_fit.summary()




# Fit SARIMA model
sarima_model = SARIMAX(train['Sales'], order=(3, 2, 3), seasonal_order=(0, 0, 0, 12))
sarima_fit = sarima_model.fit()

# Make predictions on the test set
sarima_predictions = sarima_fit.forecast(steps=len(test))
sarima_predictions

# Calculate RMSE
rmse_sarima = np.sqrt(mean_squared_error(test['Sales'], sarima_predictions))
print('RMSE (SARIMA):', rmse_sarima)

# Optional: Print model summary
sarima_fit.summary()

+

#Compare the results
data = {"MODEL":pd.Series(["rmse_linear","rmse_exp_model","rmse_Quad","rmse_add_sea","rmse_add_sea_quad","rmse_Mult_sea","rmse_mul_add_sea","rmse_ARIMA","rmse_SARIMAX"]),
        "RMSE_Values":pd.Series([rmse_linear,rmse_exp_model,rmse_Quad,rmse_add_sea,rmse_add_sea_quad,rmse_Mult_sea,rmse_mul_add_sea,rmse_arima,rmse_sarima])}
table_rmse=pd.DataFrame(data)
table_rmse.sort_values(['RMSE_Values'])


""" QUADRATIC MODEL GIVES US THE BETTER RESULTS THAN REST OF THE MODELS APPLIED FOR GIVEN DATASET"""
