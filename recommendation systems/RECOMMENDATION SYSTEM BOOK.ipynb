# -*- coding: utf-8 -*-
"""
Created on Thu Nov 23 11:18:42 2023

@author: bhanu's
"""

import numpy as np
import pandas as pd

# importing the data
df = pd.read_csv("C:\\Users\\bhanu\\OneDrive\\Desktop\\data science assesments\\book (1).csv",encoding='latin1')
df
df.info()
df.shape
df.head()

# distribution of ratings 
import matplotlib.pyplot as plt

ratings_distribution = df['Book.Rating'].value_counts().sort_index()

plt.bar(ratings_distribution.index, ratings_distribution.values, color='skyblue')
plt.xlabel('Book Rating')
plt.ylabel('Number of Ratings')
plt.title('Distribution of Book Ratings')
plt.show()
#-->ratings_distribution.index are the unique ratings in the dataset.
#-->ratings_distribution.values are the counts of each unique rating.

from sklearn.metrics.pairwise import cosine_similarity
from sklearn.feature_extraction.text import TfidfVectorizer

# Assuming our data is stored in a DataFrame called df
titles = df['Book.Title'].fillna('') 
#-->Replace NaN values with an empty string

# Use TfidfVectorizer instead of CountVectorizer
vectorizer = TfidfVectorizer(stop_words='english')
title_matrix = vectorizer.fit_transform(titles)

# title_matrix now contains the TF-IDF representation of book titles

# Step 2: Compute cosine similarity between items (Books)
# Cosine Similarity Matrix: The cosine similarity is computed between items (Books) based on their Title vectors.
cosine_sim_matrix = cosine_similarity(title_matrix, title_matrix)

def get_book_recommendations(Book_Title, cosine_sim_matrix, Book_df):
    Book_index = Book_df[Book_df['Book.Title'] == Book_Title].index[0]
    sim_scores = list(enumerate(cosine_sim_matrix[Book_index]))
    sim_scores = sorted(sim_scores, key=lambda x: x[1], reverse=True)
    sim_scores = sim_scores[1:3]  # Get the top 2 similar books (excluding itself)

    Book_indices = [i[0] for i in sim_scores]
    recommended_Books = Book_df['Book.Title'].iloc[Book_indices]

    return recommended_Books

#--> Get book recommendations for 'Cannibal In Manhattan'
Book_title = 'Cannibal In Manhattan'
recommendations = get_book_recommendations(Book_title, cosine_sim_matrix, df)

print(f"Recommendations for '{Book_title}':")
print(recommendations)
