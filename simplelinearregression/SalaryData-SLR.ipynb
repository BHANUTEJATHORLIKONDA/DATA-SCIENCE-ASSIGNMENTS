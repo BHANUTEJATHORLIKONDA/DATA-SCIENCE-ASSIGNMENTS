# -*- coding: utf-8 -*-
"""
Created on Thu Nov 23 09:55:04 2023

@author: bhanu's
"""

#simple linear regression#
#2) Salary_hike -> Build a prediction model for Salary_hike
#Build a simple linear regression model by performing EDA and do necessary transformations and select the best model using R or Python.

#importing the data #

import numpy as np
import pandas as pd
df = pd.read_csv("C:\\Users\\bhanu\\OneDrive\\Desktop\\data science assesments\\Salary_Data.csv")
df
df['Salary'].isnull().sum()

#histogram construction#

df['Salary'].hist()
df['Salary'].skew()
df['Salary'].kurt()

#constructing the boxplots#

df.boxplot(column = 'Salary',vert = False)


X= df[df.columns[[0]]]
X
from sklearn.preprocessing import StandardScaler
SS = StandardScaler()
SS_X = SS.fit_transform(X)
SS_X
X = pd.DataFrame(SS_X)
X.columns = list(SS_X)
X


Y= df[df.columns[[1]]]
Y
from sklearn.preprocessing import StandardScaler
SS = StandardScaler()
SS_Y = SS.fit_transform(Y)
SS_Y
Y = pd.DataFrame(SS_Y)
Y.columns = list(SS_Y)
Y



#building Linaer Regression model#
#Defining X and Y variables and applying the transformations on X variable #

Y =  df['Salary']
"""X =  df[['YearsExperience']]"""

#X^2 transformation
"""X[['YearsExperiencedSquared']] = X[['YearsExperience']]**2"""

#sqrt(X)

"""X[['SquareRootYearsExperience']] = np.sqrt(X[['YearsExperience']])"""

#Log transformation
"""X[['LogYearsExperience']] = np.log(X[['YearsExperience']])"""

1/sqrt(X) transformation
X[['InverseSquareRootYearsExperience']] = 1 / np.sqrt(X[['YearsExperience']])

#  splitting the data into train and test data

from sklearn.model_selection import train_test_split
X_train,X_test,Y_train,Y_test = train_test_split(X,Y,train_size=0.75,random_state=5)
X_train
X_test
Y_train
Y_test

#  fitting the model  #

from sklearn.linear_model import LinearRegression
LR = LinearRegression()
LR.fit(X_train,Y_train)
LR.intercept_#B0
LR.coef_#B1
Y_pred = LR.predict(X)
Y_pred

# calculating the metrics #

from sklearn.metrics import mean_squared_error
mse = mean_squared_error(Y ,Y_pred)
print("Mean Squarred Error:",mse.round(3))
print("Root Mean Squarred Error:",np.sqrt(mse).round(3))

from sklearn.metrics import r2_score
r2 = r2_score(Y,Y_pred)
(r2*100).round(3)


# plotting #

import matplotlib.pyplot as plt
plt.scatter(x = 1 / np.sqrt(X['YearsExperience']),y =df["Salary"] )
plt.scatter(x = 1 / np.sqrt(X['YearsExperience']),y =Y_pred ,color = 'red' )
plt.plot(1 / np.sqrt(X['YearsExperience']),Y_pred,color='Black')    #x value is automatically taken by python###
plt.show()

# here in the above scenario, we applied a transformation on x variable and that transformation is 
#X['InverseSquareRootYearsExperience'] = 1 / np.sqrt(X['YearsExperience'])
#so after taking this transformed X value along with our target variable provides less mean squared error along with good R2 score.
