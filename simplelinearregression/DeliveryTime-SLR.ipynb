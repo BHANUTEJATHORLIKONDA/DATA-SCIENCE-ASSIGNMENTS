# -*- coding: utf-8 -*-
"""
Created on Thu Nov 23 10:08:09 2023

@author: bhanu's
"""

# 2 question 
# importing the data #
import pandas as pd
import numpy as np
data = pd.read_csv("C:\\Users\\bhanu\\OneDrive\\Desktop\\data science assesments\\delivery_time.csv")
data
data.isnull().sum()
#no null values#

data['Delivery Time'].hist()
data['Delivery Time'].skew()
data['Delivery Time'].kurt()
data['Sorting Time'].hist()
data['Sorting Time'].skew()
data['Sorting Time'].kurt()
import matplotlib.pyplot as plt
plt.show()
plt.scatter(x = data['Delivery Time'] , y = data['Sorting Time'],color = 'red')
data.corr()
#0.825997 strongly positive relationship#

# defining X and Y variables and applying some transformations on X variable.

data.dropna(subset=['Sorting Time'], inplace=True)
Y = data['Delivery Time']

X =  data[['Sorting Time']]

# X^2
X[['Sorting Time']] = X[['Sorting Time']]**2


#sqrt(X)
"""X[['Sorting Time']] = np.sqrt(X[['Sorting Time']])"""

#Log(X)
"""X[['Sorting Time']]  = np.log(X[['Sorting Time']])"""

#1/sqrt(X)
X[['Sorting Time']] = 1 / np.sqrt(X[['Sorting Time']])


#  splitting the data into train and test data

from sklearn.model_selection import train_test_split
X_train,X_test,Y_train,Y_test = train_test_split(X,Y,train_size=0.75,random_state=5)
X_train
X_test
Y_train
Y_test

# fitting the model #

from sklearn.linear_model import LinearRegression
LR = LinearRegression()
LR.fit(X_train,Y_train)
LR.intercept_#B0 
LR.coef_#B1 
Y_pred = LR.predict(X)
Y_pred

   # how to fix the accuracy scores of training and testing data#
    #validation set approach#
training_error = []
test_error = []
for i in range(1,101):
    X_train,X_test,Y_train,Y_test = train_test_split(X,Y,train_size = 0.75,random_state = i)
    X_train.shape
    X_test.shape
    LR.fit(X_train,Y_train)
    Y_pred_train = LR.predict(X_train)
    Y_pred_test = LR.predict(X_test)
    training_error.append(np.sqrt(mean_squared_error(Y_train,Y_pred_train)))
    test_error.append(np.sqrt(mean_squared_error(Y_test,Y_pred_test)))
print(training_error)
print(test_error)
print("average training error :",np.mean( training_error).round(3))   
print("average testing error :",np.mean( test_error).round(3))



# Calculating metrics #

from sklearn.metrics import mean_squared_error
mse = mean_squared_error(Y ,Y_pred)
print("Mean Squarred Error:",mse.round(3))
print("Root Mean Squarred Error:",np.sqrt(mse).round(3))

from sklearn.metrics import r2_score
r2 = r2_score(Y,Y_pred)
(r2*100).round(3)


#plotting #import matplotlib.pyplot as plt
plt.scatter(x =1 / np.sqrt(X['Sorting Time']),y =data["Delivery Time"] )
plt.scatter(x = 1 / np.sqrt(X['Sorting Time']),y =Y_pred ,color = 'red' )
plt.plot(1 / np.sqrt(X['Sorting Time']),Y_pred,color='Black')#x value is automatically taken by python###
plt.show()


# based on the above results obtained the above model is poor model#...