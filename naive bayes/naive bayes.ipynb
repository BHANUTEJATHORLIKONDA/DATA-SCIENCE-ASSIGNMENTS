# -*- coding: utf-8 -*-
"""
Created on Fri Nov 24 15:08:13 2023

@author: bhanu's
"""

#import
import pandas as pd
df1 = pd.read_csv("C:\\Users\\bhanu\\OneDrive\\Desktop\\data science assesments\\SalaryData_Train.csv")
df1

df2 = pd.read_csv("C:\\Users\\bhanu\\OneDrive\\Desktop\\data science assesments\\SalaryData_Test.csv")
df2

#data partition
# Load our training data 
df_train = pd.read_csv("C:\\Users\\bhanu\\OneDrive\\Desktop\\data science assesments\\SalaryData_Train.csv")
df_train.info()
# Load our testing data
df_test = pd.read_csv("C:\\Users\\bhanu\\OneDrive\\Desktop\\data science assesments\\SalaryData_Test.csv")
df_test.info()

# Salary is our target variable
X_train = df_train.drop(columns=['Salary']) 
Y_train = df_train['Salary']               

X_test = df_test.drop(columns=['Salary'])    
Y_test = df_test['Salary']                  

# Standardize the data
# for categorical variables
from sklearn.preprocessing import LabelEncoder
categorical_columns = ['workclass', 'education', 'maritalstatus', 'occupation', 'relationship', 'race', 'sex', 'native']
LE = LabelEncoder()
for column in categorical_columns:
    X_train[column] = LE.fit_transform(X_train[column])
    X_test[column] = LE.transform(X_test[column])  

#model fitting using Naive Bayes
from sklearn.naive_bayes import MultinomialNB
mnb = MultinomialNB()
mnb.fit(X_train,Y_train)
Y_pred_train = mnb.predict(X_train)
Y_pred_train 
Y_pred_test = mnb.predict(X_test)
Y_pred_test

#metrics
from sklearn.metrics import accuracy_score
AC1 = accuracy_score(Y_train,Y_pred_train)
print("Training Accuracy score : ",AC1.round(3))
AC2 = accuracy_score(Y_test,Y_pred_test)
print("Testing Accuracy score : ",AC2.round(3))