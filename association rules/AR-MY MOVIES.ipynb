# -*- coding: utf-8 -*-
"""
Created on Thu Nov 23 11:14:17 2023

@author: bhanu's
"""

import pandas as pd
import numpy as np
import matplotlib.pyplot as plt
import seaborn as sns
import warnings
from sklearn.metrics import accuracy_score
warnings.filterwarnings("ignore")
from mlxtend.frequent_patterns import apriori,association_rules

# importing the data
movies=pd.read_csv("C:\\Users\\bhanu\\OneDrive\\Desktop\\data science assesments\\my_movies.csv")
df=movies.iloc[:,5:]
df.head()

# Data Exploration
df.iloc[:,:].sum()

#checks the sum of each column to understand the frequency of each item in the dataset
df.info()

for i in df.columns:
    print(i)
    print(df[i].value_counts())
    print()

# Data Visualization
from wordcloud import WordCloud

plt.rcParams['figure.figsize'] = (10, 8)
wordcloud = WordCloud(background_color = 'white', width = 1200,  height = 1200, max_words = 121).generate(str(df.sum()))
plt.imshow(wordcloud)
plt.axis('off')
plt.title('Items',fontsize = 20)
plt.show()

# 1. Association rules with 10% Support and 30% confidence
movies1 = apriori(df, min_support=0.1, use_colnames=True)
movies1

rules = association_rules(movies1, metric="confidence", min_threshold=0.3)
rules

rules.sort_values('lift',ascending=False)

# Lift Ratio > 1 is a good influential rule in selecting the associated transactions
lift=rules[rules.lift>1]
lift

# Sorts the rules based on lift in descending order.
# Filters rules with a lift greater than 1, as lift measures the importance of the rule.

matrix = lift.pivot('antecedents','consequents','lift')
plt.figure(figsize=(20,6),dpi=250)
sns.heatmap(matrix,annot=True)
plt.title('HeatMap - ForLiftMatrix')
plt.yticks(rotation=0)
plt.xticks(rotation=90)

# visualization of obtained rule
sns.scatterplot(x=rules['support'],y=rules['confidence'])

#2. Association rules with 20% Support and 50% confidence
movies2 = apriori(df, min_support=0.2, use_colnames=True)
movies2

rules = association_rules(movies2, metric="confidence", min_threshold=0.5)
rules

rules.sort_values('lift',ascending=False)
lift=rules[rules.lift>1]
lift

matrix = lift.pivot('antecedents','consequents','lift')
plt.figure(figsize=(20,6),dpi=250)
sns.heatmap(matrix,annot=True)
plt.title('HeatMap - ForLiftMatrix')
plt.yticks(rotation=0)
plt.xticks(rotation=90)

# visualization of obtained rule
sns.scatterplot(x=rules['support'],y=rules['confidence'])

# 3. Association rules with 30% Support and 80% confidence
movies3 = apriori(df, min_support=0.3, use_colnames=True)
movies3

rules = association_rules(movies3, metric="confidence", min_threshold=0.8)
rules

rules.sort_values('lift',ascending=False)
lift=rules[rules.lift>1]
lift

matrix = lift.pivot('antecedents','consequents','lift')
plt.figure(figsize=(20,6),dpi=250)
sns.heatmap(matrix,annot=True)
plt.title('HeatMap - ForLiftMatrix')
plt.yticks(rotation=0)
plt.xticks(rotation=90)

# visualization of obtained rule
sns.scatterplot(x=rules['support'],y=rules['confidence'])


"""Lift is a crucial metric in association rule mining. It measures how much more likely items are to be bought together compared to when they are bought independently. 

Lift > 1: Indicates that the occurrence of the antecedent increases the likelihood of the consequent occurring, suggesting a positive association.
Lift = 1: Implies that the antecedent and consequent are independent of each other.
Lift < 1: Suggests a negative association, meaning the occurrence of the antecedent decreases the likelihood of the consequent occurring."""