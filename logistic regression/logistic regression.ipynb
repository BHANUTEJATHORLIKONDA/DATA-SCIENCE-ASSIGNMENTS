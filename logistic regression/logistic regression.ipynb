# -*- coding: utf-8 -*-
"""
Created on Thu Nov 23 10:47:44 2023

@author: bhanu's
"""

# bank-full
import pandas as pd
data = pd.read_csv("C:\\Users\\bhanu\\OneDrive\\Desktop\\data science assesments\\bank-full.csv",sep=";")
data
data.info()

#data transformation
#for x variables
X_count = data.iloc[:,[0,5,9,11,12,13,14]]
list(X_count)
from sklearn.preprocessing import StandardScaler
SS = StandardScaler()
SS_X = SS.fit_transform(X_count)
SS_X
X = pd.DataFrame(SS_X)
X.columns = list(X_count)
X

#for y variable
from sklearn.preprocessing import LabelEncoder
LE = LabelEncoder()
data_sep = data[data.columns[[1,2,3,4,6,7,8,10,15,16]]]
data_sep
data_sep.iloc[:,0] = LE.fit_transform(data_sep.iloc[:,0])
data_sep.iloc[:,1] = LE.fit_transform(data_sep.iloc[:,1])
data_sep.iloc[:,2] = LE.fit_transform(data_sep.iloc[:,2])
data_sep.iloc[:,3] = LE.fit_transform(data_sep.iloc[:,3])
data_sep.iloc[:,4] = LE.fit_transform(data_sep.iloc[:,4])
data_sep.iloc[:,5] = LE.fit_transform(data_sep.iloc[:,5])
data_sep.iloc[:,6] = LE.fit_transform(data_sep.iloc[:,6])
data_sep.iloc[:,7] = LE.fit_transform(data_sep.iloc[:,7])
data_sep.iloc[:,8] = LE.fit_transform(data_sep.iloc[:,8])
data_sep.iloc[:,9] = LE.fit_transform(data_sep.iloc[:,9])

Y = LE.fit_transform(data_sep.iloc[:,9])
Y

#model fitting
from sklearn.linear_model import LogisticRegression
logreg = LogisticRegression()
logreg.fit(X,Y)
Y_pred = logreg.predict(X)
Y_pred

#confusion matrix and accuracy
from sklearn.metrics import confusion_matrix,accuracy_score
CM = confusion_matrix(Y,Y_pred)
CM
AC = accuracy_score(Y,Y_pred)
AC
print("Accuracy score : ",AC)

# other metrics
from sklearn.metrics import recall_score,precision_score,f1_score
RC = recall_score(Y,Y_pred)
RC
print("Recall score : ",RC.round(3))
PS = precision_score(Y,Y_pred)
PS
print("Pression score : ",PS.round(3))
FS = f1_score(Y,Y_pred)
FS
print("f1 Score : ",FS.round(3))

CM

TN = CM[0,0]
TN
FP = CM[1,0]
FP
TNR = TN/(TN+FP)
TNR
print("specificity : ",TNR.round(3))

#ROC , AUC
from sklearn.metrics import roc_curve,roc_auc_score
fpr,tpr,dummy = roc_curve(Y,Y_pred)
import matplotlib.pyplot as plt
plt.scatter(x=fpr,y=tpr)
plt.plot(fpr,tpr,color="red")
plt.ylabel("True positive rate")
plt.xlabel("False Positive Rate")
plt.show()
auc = roc_auc_score(Y,Y_pred)
print("Area Under curve : ",(auc*100).round(3))
