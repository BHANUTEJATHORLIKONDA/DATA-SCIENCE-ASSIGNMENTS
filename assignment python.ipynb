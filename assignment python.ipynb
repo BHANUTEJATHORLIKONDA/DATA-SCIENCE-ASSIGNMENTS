# -*- coding: utf-8 -*-
"""
Created on Sun Aug  6 15:23:33 2023

@author: samee
"""
# 4)
import pandas as pd  #importing pandas library
data = pd.read_csv("C:\\Users\\samee\\OneDrive\\Desktop\\DS assingments\\basic stat 1\\data\\Q7.csv") #copying the path where the requried csv file there and pasting to get the data
data.shape #gives the total number of rows and columns in our file
#calculations of "points"
data["Points"].mean()    
data["Points"].median()
data["Points"].mode() 
data["Points"].std() 
data["Points"].var()
rangee = data["Points"].max() - data["Points"].min() 
rangee
#calculations of "Score"
data["Score"].mean() 
data["Score"].median()
data["Score"].mode() 
data["Score"].std() 
data["Score"].var()
rangee = data["Score"].max() - data["Score"].min() 
rangee

#calculations of "Weigh"
data["Weigh"].mean() 
data["Weigh"].median()
data["Weigh"].mode() 
data["Weigh"].std() 
data["Weigh"].var()
rangee = data["Weigh"].max() - data["Weigh"].min() 
rangee


# 24) 
from scipy import stats
#data
p_mean = 270 #given total population
s_mean = 260 #given sample data 
s_std = 90 #given SD
s_size = 18 #sample size
# as sample size is lessthan 30 we need to calculate t score
t_score = (s_mean-p_mean)/(s_std / s_size**0.5)
t_score
# degrees of freedom (n-1)
dof = s_size - 1
dof
#calculating p value 
p_val = stats.t.cdf(t_score,df = dof)
p_val
#output 
print("t score :",t_score)
print("degree of freedom :",dof)
print("p value :",p_val)

# 20) 
import pandas as pd
cars = pd.read_csv("Cars.csv")
cars
#before calculating probability we need to calculate mean and standar deviation
cars["MPG"].mean() 
cars["MPG"].std()

from scipy .stats import norm
#mean = 34.42207572802469 , SD = 9.131444731795982
nd = norm(34.42207572802469, 9.131444731795982)
nd
# a) P(MPG>38)
#calculating the probability using cummulative distributive function
p = 1 - (nd.cdf(38))
p
# b) P(MPG<40)
#calculating the probability using cummulative distributive function
p = nd.cdf(40)
p
# c) P (20<MPG<50)
p = nd.cdf(50) - nd.cdf(20)
p

# 21) a)
import pandas as pd
cars = pd.read_csv("C:\\Users\\samee\\OneDrive\\Desktop\\DS assingments\\basic stat 1\\data\\Cars.csv")
cars
cars.shape
cars["MPG"]
cars["MPG"].hist()
mean = cars["MPG"].mean()
mean
SD = cars["MPG"].std()
SD
#now calculating z scores using z tranformation
z_score = (cars["MPG"] - mean) / SD
z_score
z_score.hist()
z_score.mean()
z_score.std()

# b)
import pandas as pd
at = pd.read_csv("C:\\Users\\samee\\OneDrive\\Desktop\\DS assingments\\basic stat 1\\data\\wc-at.csv")
at
at.shape
at["AT"]
at["AT"].hist()
mean = at["AT"].mean()
mean
SD = at["AT"].std()
SD
#now calculating z scores using z tranformation
z_score = (at["AT"] - mean) / SD
z_score
z_score.hist()
z_score.mean()
z_score.std()

import pandas as pd
wt = pd.read_csv("C:\\Users\\samee\\OneDrive\\Desktop\\DS assingments\\basic stat 1\\data\\wc-at.csv")
wt
wt.shape
wt["Waist"]
wt["Waist"].hist()
mean = wt["Waist"].mean()
mean
SD = wt["Waist"].std()
SD
#now calculating z scores using z tranformation
z_score = (wt["Waist"] - mean) / SD
z_score
z_score.hist()
z_score.mean()
z_score.std()
 

# 12)
import numpy as np
scores = [34,36,36,38,38,39,39,40,40,41,41,41,41,42,42,45,49,56]
#--> 1)find mean,median,varience,standard deviation
#mean
mean = np.mean(scores)
mean
#median
median = np.median(scores)
median
#variance
var = np.var(scores)
var
#standard deviation
SD = np.std(scores)
SD
#outputs
print("Mean : ",mean)
print("Median : ",median)
print("varience : ",var)
print("Standard deviation : ",SD)


# 6) 
import numpy as np
import pandas as pd

#respective data
D = [("A",1,0.015),("B",4,0.20),("C",5,0.005),("D",5,0.005),("E",6,0.01),("F",2,0.120)]
df = pd.DataFrame(D)
df
df.columns = ["Child","Candies Count","Probability"]
df.columns
#expected number of candies for a randomly selected child
candies = (df["Candies Count"] * df["Probability"]).sum()
candies
#printing output
print("Expected number of candies for randomly picked child : ",candies)



# 8)
import numpy as np
import pandas as pd

#respective data
Weights_of_patients = [108, 110, 123, 134, 135, 145, 167, 187, 199]
Weights_of_patients
df = pd.DataFrame(Weights_of_patients)
df
df.columns = ["Weights"]
df.columns
#Expected Value of the Weight of that patient randomly picked
# sum of all weights / total no.of patients
weight = df["Weights"].mean()
weight
#printing output
print("Expected Value of the Weight of that patient randomly picked : ",weight)



# 9) a)
import pandas as pd
data = pd.read_csv("C:\\Users\\samee\\OneDrive\\Desktop\\DS assingments\\basic stat 1\\data\\Q9_a.csv")
data
data.shape
#calculating skewness and kurtosis of car speed
data["speed"]
data["speed"].hist()
data["speed"].skew()
data["speed"].kurt()

import pandas as pd
data = pd.read_csv("C:\\Users\\samee\\OneDrive\\Desktop\\DS assingments\\basic stat 1\\data\\\\Q9_a.csv")
data
data.shape
#calculating skewness and kurtosis of car distance
data["dist"]
data["dist"].hist()
data["dist"].skew()
data["dist"].kurt()


# 9) b)
import pandas as pd
data = pd.read_csv("C:\\Users\\samee\\OneDrive\\Desktop\\DS assingments\\basic stat 1\\data\\\\Q9_b.csv")
data
data.shape
#calculating skewness and kurtosis of SP
data["SP"]
data["SP"].hist()
data["SP"].skew()
data["SP"].kurt()

import pandas as pd
data = pd.read_csv("C:\\Users\\samee\\OneDrive\\Desktop\\DS assingments\\basic stat 1\\data\\\\Q9_b.csv")
data
data.shape
#calculating skewness and kurtosis of WT
data["WT"]
data["WT"].hist()
data["WT"].skew()
data["WT"].kurt()


# 11) 
import numpy as np
#given data
sample_c = 2000
population_c = 3,000,000
s_mean = 200
s_std = 30 
import scipy.stats as stats
#for 94%
confidence_level1 = 0.94
z_val1 = stats.norm.ppf(1-(1-confidence_level1)/2)
print("z value : ",z_val1)
#for 96%
confidence_level2 = 0.96
z_val2 = stats.norm.ppf(1-(1-confidence_level2)/2)
print("z value : ",z_val2)
#for 98%
confidence_level3 = 0.98
z_val3 = stats.norm.ppf(1-(1-confidence_level3)/2)
print("z value : ",z_val3)

#confidence levels 
CL_94 = (s_mean - z_val1 * (s_std /(sample_c ** 0.5)),s_mean + z_val1 * (s_std / (sample_c ** 0.5)))
print("confidence interval at 94% :",CL_94)

CL_96 = (s_mean - z_val2 * (s_std /(sample_c ** 0.5)),s_mean + z_val2 * (s_std / (sample_c ** 0.5)))
print("confidence interval at 96% :",CL_96)

CL_98 = (s_mean - z_val3 * (s_std /(sample_c ** 0.5)),s_mean + z_val3 * (s_std / (sample_c ** 0.5)))
print("confidence interval at 94% :",CL_98)


































