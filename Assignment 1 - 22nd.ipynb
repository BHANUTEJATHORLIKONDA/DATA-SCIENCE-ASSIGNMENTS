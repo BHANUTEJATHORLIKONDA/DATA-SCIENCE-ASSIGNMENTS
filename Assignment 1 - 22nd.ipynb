# -*- coding: utf-8 -*-
"""
Created on Wed Sep 27 14:31:14 2023

@author: sksha
"""

import scipy.stats as stats

# Confidence levels (as percentages)
confidence_level_90 = 90
confidence_level_94 = 94
confidence_level_60 = 60

# Calculate Z-scores for the specified confidence levels
z_score_90 = stats.norm.ppf(1 - (1 - confidence_level_90/100) / 2)
z_score_94 = stats.norm.ppf(1 - (1 - confidence_level_94/100) / 2)
z_score_60 = stats.norm.ppf(1 - (1 - confidence_level_60/100) / 2)


# Print the Z-scores
print("Z-score for a {confidence_level_90}% confidence interval:",z_score_90)
print("Z-score for a {confidence_level_94}% confidence interval:",z_score_94)
print("Z-score for a {confidence_level_60}% confidence interval:",z_score_96)
